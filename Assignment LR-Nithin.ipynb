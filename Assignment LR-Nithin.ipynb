{
 "cells": [
  {
   "cell_type": "code",
   "execution_count": null,
   "id": "1d1e4314-1c00-426d-9c51-37e7983ade84",
   "metadata": {},
   "outputs": [],
   "source": [
    "import numpy as np\n",
    "import pandas as pd\n",
    "import seaborn as sns\n",
    "import matplotlib.pyplot as plt\n",
    "import sklearn\n",
    "from sklearn.model_selection import train_test_split\n",
    "from sklearn.preprocessing import MinMaxScaler\n",
    "import statsmodels.api as sm\n",
    "from statsmodels.stats.outliers_influence import variance_inflation_factor\n",
    "from sklearn.feature_selection import RFE\n",
    "from sklearn.linear_model import LinearRegression\n",
    "from sklearn.metrics import r2_score"
   ]
  },
  {
   "cell_type": "code",
   "execution_count": null,
   "id": "9d3eea1a-fa14-4cee-a3dc-33ee5af8f423",
   "metadata": {},
   "outputs": [],
   "source": [
    "data=pd.read_csv(\"day.csv\")"
   ]
  },
  {
   "cell_type": "markdown",
   "id": "d3b1e05d-d23f-4723-8287-c648ec799ba6",
   "metadata": {},
   "source": [
    "### Get a Feel of Data"
   ]
  },
  {
   "cell_type": "code",
   "execution_count": null,
   "id": "6846ea35-731d-4b27-9a3f-e3714379fc2d",
   "metadata": {},
   "outputs": [],
   "source": [
    "data.shape"
   ]
  },
  {
   "cell_type": "code",
   "execution_count": null,
   "id": "436fbf43-9183-4b05-b021-150cad0765af",
   "metadata": {},
   "outputs": [],
   "source": [
    "data.isnull().sum()"
   ]
  },
  {
   "cell_type": "code",
   "execution_count": null,
   "id": "9eb43ed4-f2b1-4794-84ea-73cc7286013f",
   "metadata": {},
   "outputs": [],
   "source": [
    "data.info()"
   ]
  },
  {
   "cell_type": "code",
   "execution_count": null,
   "id": "82455dd9-377c-4d00-9885-3053334a5df1",
   "metadata": {},
   "outputs": [],
   "source": [
    "data.describe()"
   ]
  },
  {
   "cell_type": "code",
   "execution_count": null,
   "id": "0b03f82f-27b1-4a72-9950-d1ba4cc57ef2",
   "metadata": {},
   "outputs": [],
   "source": [
    "data.head()"
   ]
  },
  {
   "cell_type": "markdown",
   "id": "d0c39f7c-f0c9-4a91-9d05-44193db96fa2",
   "metadata": {},
   "source": [
    "### Remove Unnecessary Columns\n",
    " - instant - As this column contains all unique values\n",
    " - dteday - As this data is already present in separate columns i.e dteday\n",
    " - casual & registered - As this sum is equal to cnt variable i.e Target we are predicting and would result in High correlation"
   ]
  },
  {
   "cell_type": "code",
   "execution_count": null,
   "id": "69f25747-fcba-498a-8c45-eff98ca5f26a",
   "metadata": {},
   "outputs": [],
   "source": [
    "data.drop(['instant','dteday','casual','registered'], axis=1,inplace=True)"
   ]
  },
  {
   "cell_type": "code",
   "execution_count": null,
   "id": "77f7feb1-7015-4541-a8c5-84e335af98e2",
   "metadata": {},
   "outputs": [],
   "source": [
    "data.head()"
   ]
  },
  {
   "cell_type": "markdown",
   "id": "b6587a6e-7121-49cc-869c-4ab808622585",
   "metadata": {},
   "source": [
    "### Data Visualization on Categorical Variables\n",
    "\n",
    "Analyze the Categorical Variable on the target Variable i.e cnt\n",
    "\n",
    " - season\n",
    " - yr\n",
    " - mnth\n",
    " - workingday\n",
    " - weathersit\n",
    "\n",
    "From the below graphs, all the categorical variables have good amount of impact on the cnt"
   ]
  },
  {
   "cell_type": "code",
   "execution_count": null,
   "id": "07cfa4ec-b009-4cf6-b2fe-2d5306023041",
   "metadata": {},
   "outputs": [],
   "source": [
    "plt.figure(figsize=(20,12))\n",
    "plt.subplot(2,3,1)\n",
    "sns.boxplot(x='season',y='cnt',data=data)\n",
    "plt.subplot(2,3,2)\n",
    "sns.boxplot(x='yr',y='cnt',data=data)\n",
    "plt.subplot(2,3,3)\n",
    "sns.boxplot(x='mnth',y='cnt',data=data)\n",
    "plt.subplot(2,3,4)\n",
    "sns.boxplot(x='workingday',y='cnt',data=data)\n",
    "plt.subplot(2,3,5)\n",
    "sns.boxplot(x='weathersit',y='cnt',data=data)\n",
    "plt.show()"
   ]
  },
  {
   "cell_type": "markdown",
   "id": "d9bea84b-bef1-41a3-b770-9e8844b01256",
   "metadata": {},
   "source": [
    "### Data Visualization on Continous Variables\n",
    "\n",
    " - temp\n",
    " - atemp\n",
    " - hum\n",
    " - windspeed\n",
    " - cnt \n",
    "From the below graph, cnt vs temp and cnt vs temp looks to be linear relationship which is not the case with cnt vs hum \n",
    "and windspeed\n",
    "\n",
    "Also from the graph looks like temp and atemp looks to related i.e chances of multi-collinearity\n"
   ]
  },
  {
   "cell_type": "code",
   "execution_count": null,
   "id": "2ba8c1ad-ed8e-48fa-ac0a-95a4cea5e386",
   "metadata": {},
   "outputs": [],
   "source": [
    "columns=['temp','atemp','hum','windspeed','cnt']\n",
    "sns.pairplot(data[columns])\n",
    "plt.show()"
   ]
  },
  {
   "cell_type": "markdown",
   "id": "866e89f8-278e-45b8-995e-be812c70ae2f",
   "metadata": {},
   "source": [
    "### Data Preparation"
   ]
  },
  {
   "cell_type": "markdown",
   "id": "2ff3b6fe-3c39-4abc-8d1e-6fa23ee054f9",
   "metadata": {},
   "source": [
    "### One Hot Encoding for Categorical Independent Variables\n",
    "\n",
    "Apply one hot encoding technique (i.e Create Dummy Variables) to the following categorical variables \n",
    "\n",
    " - season. Convert numerical values to relavent values and apply one hot encoding\n",
    " - month\n",
    " - weekday\n",
    " - weathersit. Convert numerical values to relavent values and apply one hot encoding"
   ]
  },
  {
   "cell_type": "markdown",
   "id": "cf4413b3-58b8-464d-ba15-df0f4b930787",
   "metadata": {},
   "source": [
    "### Create Dummy Variable for Season\n",
    " - Map value in season to actual season name as given in data dictionary 1:spring, 2:summer, 3:fall, 4:winter\n",
    " - Create dummy variable for Season\n",
    " - Add the dummy variables to the original data frame\n",
    " - Drop the original season column"
   ]
  },
  {
   "cell_type": "code",
   "execution_count": null,
   "id": "2ce76f0c-3f7f-4814-b70b-b43532f33280",
   "metadata": {},
   "outputs": [],
   "source": [
    "data.season.value_counts()"
   ]
  },
  {
   "cell_type": "code",
   "execution_count": null,
   "id": "63fc97af-307e-4132-89e2-d08709ff9832",
   "metadata": {},
   "outputs": [],
   "source": [
    "data['season']=data[['season']].apply(lambda x : x.map({1:\"spring\", 2:\"summer\", 3:\"fall\", 4:\"winter\"}))\n",
    "season_dummy=pd.get_dummies(data['season'],drop_first=True,dtype=int)\n",
    "data=pd.concat([data,season_dummy],axis=1)\n"
   ]
  },
  {
   "cell_type": "code",
   "execution_count": null,
   "id": "1b2da13b-b397-48b6-b78b-20bb68fbf93d",
   "metadata": {},
   "outputs": [],
   "source": [
    "data.season.value_counts()"
   ]
  },
  {
   "cell_type": "code",
   "execution_count": null,
   "id": "27a09fed-23c2-47a7-8b1b-7a00ced4cc22",
   "metadata": {},
   "outputs": [],
   "source": [
    "data=data.drop(\"season\",axis=1)\n",
    "data.head()"
   ]
  },
  {
   "cell_type": "markdown",
   "id": "532adbff-a555-4d46-8810-4674cc0cfcb5",
   "metadata": {},
   "source": [
    "### Create Dummy Variable for Month\n",
    "\n",
    " - Map value in Mnth to actual month name \n",
    " - Create dummy variable for Mnth\n",
    " - Add the dummy variables to the original data frame\n",
    " - Drop the original mnth column"
   ]
  },
  {
   "cell_type": "code",
   "execution_count": null,
   "id": "6a055616-3976-4911-8f82-e414076556a1",
   "metadata": {},
   "outputs": [],
   "source": [
    "data.mnth.value_counts()"
   ]
  },
  {
   "cell_type": "code",
   "execution_count": null,
   "id": "92f3aa81-2d81-498a-97c7-946421b5505a",
   "metadata": {},
   "outputs": [],
   "source": [
    "data['mnth']=data[['mnth']].apply(lambda x : x.map({1:\"Jan\", 2:\"Feb\", 3:\"Mar\", 4:\"Apr\",5:\"May\", 6:\"Jun\",\n",
    "                                                   7: \"Jul\",8: \"Aug\", 9: \"Sep\", 10: \"Oct\", 11: \"Nov\",\n",
    "                                                   12: \"Dec\"\n",
    "                                                   })\n",
    "                                 )\n",
    "mnth_dummy=pd.get_dummies(data['mnth'],drop_first=True,dtype=int)\n",
    "data=pd.concat([data,mnth_dummy],axis=1)\n"
   ]
  },
  {
   "cell_type": "code",
   "execution_count": null,
   "id": "fcb621d5-0719-4709-be42-abce3b77834f",
   "metadata": {},
   "outputs": [],
   "source": [
    "data.head()"
   ]
  },
  {
   "cell_type": "code",
   "execution_count": null,
   "id": "577f0d7e-369c-4efb-9c66-41d67738f7cb",
   "metadata": {},
   "outputs": [],
   "source": [
    "data.mnth.value_counts()"
   ]
  },
  {
   "cell_type": "code",
   "execution_count": null,
   "id": "8ee292e0-6fea-494e-a3ae-7ff5b549cd7a",
   "metadata": {},
   "outputs": [],
   "source": [
    "data=data.drop(\"mnth\",axis=1)\n",
    "data.head()"
   ]
  },
  {
   "cell_type": "markdown",
   "id": "296c84be-1ccd-4e57-9554-2343883ada3a",
   "metadata": {},
   "source": [
    "### Create Dummy Variable for Weekday\n",
    "\n",
    " - Map value in weekday to actual day\n",
    " - Create dummy variable for weekday\n",
    " - Add the dummy variables to the original data frame\n",
    " - Drop the original weekday column"
   ]
  },
  {
   "cell_type": "code",
   "execution_count": null,
   "id": "469f312f-6dae-416a-92cc-2a0b481523cd",
   "metadata": {},
   "outputs": [],
   "source": [
    "data.weekday.value_counts()"
   ]
  },
  {
   "cell_type": "code",
   "execution_count": null,
   "id": "cb053e87-2e4c-4752-a65a-9f54fee1e4bc",
   "metadata": {},
   "outputs": [],
   "source": [
    "data['weekday']=data[['weekday']].apply(lambda x : x.map({0:\"Sunday\", 1:\"Monday\", 2:\"Tuesday\", 3:\"Wednesday\", 4:\"Thursday\",\n",
    "                                                          5:\"Friday\", 6:\"Saturday\"\n",
    "                                                           })\n",
    "                                         )\n",
    "weekday_dummy=pd.get_dummies(data['weekday'],drop_first=True,dtype=int)\n",
    "data=pd.concat([data,weekday_dummy],axis=1)\n"
   ]
  },
  {
   "cell_type": "code",
   "execution_count": null,
   "id": "4fd2ce3a-516e-4aee-8986-fe9b852d73bc",
   "metadata": {},
   "outputs": [],
   "source": [
    "data.head()"
   ]
  },
  {
   "cell_type": "code",
   "execution_count": null,
   "id": "00a723a4-b061-4a7f-9395-1444ad507539",
   "metadata": {},
   "outputs": [],
   "source": [
    "data.weekday.value_counts()"
   ]
  },
  {
   "cell_type": "code",
   "execution_count": null,
   "id": "338f519d-f16b-447a-a6fc-610a8923a643",
   "metadata": {},
   "outputs": [],
   "source": [
    "data=data.drop(\"weekday\",axis=1)\n",
    "data.head()"
   ]
  },
  {
   "cell_type": "markdown",
   "id": "a2b63bea-20e6-45dd-8af9-08171a8179e5",
   "metadata": {},
   "source": [
    "### Create Dummy Variable for WeatherSit\n",
    "\n",
    " - Map value in weathersit to actual weathersit as given in data dictionary in a meaningful manner\n",
    " - Create dummy variable for weathersit\n",
    " - Add the dummy variables to the original data frame\n",
    " - Drop the original weathersit column"
   ]
  },
  {
   "cell_type": "code",
   "execution_count": null,
   "id": "54876d56-1ccf-45db-beb5-d763e6eac77e",
   "metadata": {},
   "outputs": [],
   "source": [
    "data.weathersit.value_counts()"
   ]
  },
  {
   "cell_type": "code",
   "execution_count": null,
   "id": "271cd39c-3174-47d8-93ce-364d300fdb5c",
   "metadata": {},
   "outputs": [],
   "source": [
    "data['weathersit']=data[['weathersit']].apply(lambda x : x.map({1:\"Clear\", 2:\"Mist\", 3:\"Light\", 4:\"Heavy\"}))\n",
    "weathersit_dummy=pd.get_dummies(data['weathersit'],drop_first=True,dtype=int)\n",
    "data=pd.concat([data,weathersit_dummy],axis=1)\n"
   ]
  },
  {
   "cell_type": "code",
   "execution_count": null,
   "id": "641136d6-6105-4222-a590-9bc667c82160",
   "metadata": {},
   "outputs": [],
   "source": [
    "data.weathersit.value_counts()"
   ]
  },
  {
   "cell_type": "code",
   "execution_count": null,
   "id": "992304eb-d6ea-4747-95c3-d29062c230dc",
   "metadata": {},
   "outputs": [],
   "source": [
    "data.head()"
   ]
  },
  {
   "cell_type": "code",
   "execution_count": null,
   "id": "47edc76e-7025-47bb-b45d-10055ad54dae",
   "metadata": {},
   "outputs": [],
   "source": [
    "data=data.drop(\"weathersit\",axis=1)\n",
    "data.head()"
   ]
  },
  {
   "cell_type": "markdown",
   "id": "280809a3-833f-452b-9a81-f9807267ea76",
   "metadata": {},
   "source": [
    "### Check the list of columns"
   ]
  },
  {
   "cell_type": "code",
   "execution_count": null,
   "id": "165a1474-7428-4929-9f89-f220c93ef0fe",
   "metadata": {},
   "outputs": [],
   "source": [
    "data.dtypes"
   ]
  },
  {
   "cell_type": "markdown",
   "id": "6850656a-b8f2-43e7-8d99-5eeae2d603f0",
   "metadata": {},
   "source": [
    "### Split the data to Train and Test with 70-30 ratio"
   ]
  },
  {
   "cell_type": "code",
   "execution_count": null,
   "id": "4d63df7c-e850-4ed5-864e-8bd7638c2de9",
   "metadata": {},
   "outputs": [],
   "source": [
    "data_train, data_test=train_test_split(data, train_size=0.7, random_state=99)"
   ]
  },
  {
   "cell_type": "code",
   "execution_count": null,
   "id": "9837727c-1f23-48cd-8b59-fcdcb092562e",
   "metadata": {},
   "outputs": [],
   "source": [
    "data_train.shape"
   ]
  },
  {
   "cell_type": "code",
   "execution_count": null,
   "id": "79c663e3-588f-4308-ae55-a67695e9875b",
   "metadata": {},
   "outputs": [],
   "source": [
    "data_test.shape"
   ]
  },
  {
   "cell_type": "markdown",
   "id": "3cce8e3e-8a5b-4ef7-8886-1b13c82f8e0a",
   "metadata": {},
   "source": [
    "### Applying Min Max Scaling on numeric variables so that they all are at same scale\n",
    " - temp\n",
    " - atemp\n",
    " - hum\n",
    " - windspeed\n",
    " - cnt"
   ]
  },
  {
   "cell_type": "code",
   "execution_count": null,
   "id": "0e8d6617-bc56-43c7-90d4-c86d12be2eed",
   "metadata": {},
   "outputs": [],
   "source": [
    "scaler = MinMaxScaler()"
   ]
  },
  {
   "cell_type": "code",
   "execution_count": null,
   "id": "179eeecb-d8c0-4ea9-ad9b-4dc399d39ea5",
   "metadata": {},
   "outputs": [],
   "source": [
    "numeric_vars=['temp','atemp','hum','windspeed','cnt']"
   ]
  },
  {
   "cell_type": "code",
   "execution_count": null,
   "id": "3c7c9aab-5a49-4372-a0dd-b719fd7d8f3f",
   "metadata": {},
   "outputs": [],
   "source": [
    "data_train[numeric_vars]=scaler.fit_transform(data_train[numeric_vars])"
   ]
  },
  {
   "cell_type": "code",
   "execution_count": null,
   "id": "1f4eb246-9d17-4e94-8e10-bcc80038f617",
   "metadata": {},
   "outputs": [],
   "source": [
    "data_train.head()"
   ]
  },
  {
   "cell_type": "code",
   "execution_count": null,
   "id": "6a13ddd9-9501-4f08-8d4f-94c0b472f834",
   "metadata": {},
   "outputs": [],
   "source": [
    "data_train.describe()"
   ]
  },
  {
   "cell_type": "markdown",
   "id": "836ae256-c604-4f66-9db5-1d44a6f2bf16",
   "metadata": {},
   "source": [
    "### Training the model"
   ]
  },
  {
   "cell_type": "code",
   "execution_count": null,
   "id": "03c8a77c-f3f4-49ab-a8ed-05d52f9e9cde",
   "metadata": {},
   "outputs": [],
   "source": [
    "plt.figure(figsize=(24,14))\n",
    "sns.heatmap(data_train.corr(),annot=True)\n",
    "plt.show()"
   ]
  },
  {
   "cell_type": "code",
   "execution_count": null,
   "id": "6e7a31e3-102f-4d2e-aa58-f63cb3efb044",
   "metadata": {},
   "outputs": [],
   "source": [
    "y_train=data_train.pop('cnt')\n",
    "x_train=data_train\n",
    "x_train_sm=sm.add_constant(x_train)\n",
    "lr=sm.OLS(y_train,x_train_sm)\n",
    "lr_model=lr.fit()\n",
    "lr_model.summary()"
   ]
  },
  {
   "cell_type": "markdown",
   "id": "302c513f-b68d-4055-b94a-b166759a86d3",
   "metadata": {},
   "source": [
    "### Identify the variables to keep in the model based on below stats\n",
    " - p-value\n",
    " - VIF\n"
   ]
  },
  {
   "cell_type": "code",
   "execution_count": null,
   "id": "b2636bdf-2283-4c54-8150-a022facecf22",
   "metadata": {},
   "outputs": [],
   "source": [
    "vif=pd.DataFrame()\n",
    "vif['Features']=x_train.columns\n",
    "vif['VIF']= [ variance_inflation_factor(x_train.values,i) for i in range(x_train.shape[1]) ]\n",
    "vif['VIF']=round(vif['VIF'],2)\n",
    "vif=vif.sort_values(by='VIF',ascending=False)\n",
    "vif"
   ]
  },
  {
   "cell_type": "markdown",
   "id": "c48e29f0-1c68-4894-aa1c-e600646543ca",
   "metadata": {},
   "source": [
    "### Remove variables with High p(i.e > 0.05 CI) and VIF(i.e >5) values Ex: atemp"
   ]
  },
  {
   "cell_type": "code",
   "execution_count": null,
   "id": "3eb235e4-bc93-44f9-acf3-bf9ef250f112",
   "metadata": {},
   "outputs": [],
   "source": [
    "x_train=data_train.drop(['atemp'],axis=1)\n",
    "x_train_sm=sm.add_constant(x_train)\n",
    "lr=sm.OLS(y_train,x_train_sm)\n",
    "lr_model=lr.fit()\n",
    "lr_model.summary()"
   ]
  },
  {
   "cell_type": "code",
   "execution_count": null,
   "id": "2b413a4d-aff7-4001-b5b9-e65a33074616",
   "metadata": {},
   "outputs": [],
   "source": [
    "vif=pd.DataFrame()\n",
    "vif['Features']=x_train.columns\n",
    "vif['VIF']= [ variance_inflation_factor(x_train.values,i) for i in range(x_train.shape[1]) ]\n",
    "vif['VIF']=round(vif['VIF'],2)\n",
    "vif=vif.sort_values(by='VIF',ascending=False)\n",
    "vif"
   ]
  },
  {
   "cell_type": "markdown",
   "id": "35afb74c-449e-4d29-8bd5-0725ac6e2ae1",
   "metadata": {},
   "source": [
    "### Remove variables with High p and Low VIF and rebuild the model and observe if there is any improvement in model . Ex: Wednesday, Thursday"
   ]
  },
  {
   "cell_type": "code",
   "execution_count": null,
   "id": "f94ea21e-473b-4c8f-abb5-237adaafc6d4",
   "metadata": {},
   "outputs": [],
   "source": [
    "x_train=data_train.drop(['Wednesday','atemp'],axis=1)\n",
    "x_train_sm=sm.add_constant(x_train)\n",
    "lr=sm.OLS(y_train,x_train_sm)\n",
    "lr_model=lr.fit()\n",
    "lr_model.summary()"
   ]
  },
  {
   "cell_type": "code",
   "execution_count": null,
   "id": "5e26d9ca-d38d-441c-b469-9955824a9c22",
   "metadata": {},
   "outputs": [],
   "source": [
    "vif=pd.DataFrame()\n",
    "vif['Features']=x_train.columns\n",
    "vif['VIF']= [ variance_inflation_factor(x_train.values,i) for i in range(x_train.shape[1]) ]\n",
    "vif['VIF']=round(vif['VIF'],2)\n",
    "vif=vif.sort_values(by='VIF',ascending=False)\n",
    "vif"
   ]
  },
  {
   "cell_type": "code",
   "execution_count": null,
   "id": "879516cd-e30b-4abc-802c-821fdd24fcbb",
   "metadata": {},
   "outputs": [],
   "source": [
    "x_train=data_train.drop(['Wednesday','atemp','Thursday'],axis=1)\n",
    "x_train_sm=sm.add_constant(x_train)\n",
    "lr=sm.OLS(y_train,x_train_sm)\n",
    "lr_model=lr.fit()\n",
    "lr_model.summary()"
   ]
  },
  {
   "cell_type": "code",
   "execution_count": null,
   "id": "1d5d8cb3-8166-4edb-8f20-1755397a813b",
   "metadata": {},
   "outputs": [],
   "source": [
    "vif=pd.DataFrame()\n",
    "vif['Features']=x_train.columns\n",
    "vif['VIF']= [ variance_inflation_factor(x_train.values,i) for i in range(x_train.shape[1]) ]\n",
    "vif['VIF']=round(vif['VIF'],2)\n",
    "vif=vif.sort_values(by='VIF',ascending=False)\n",
    "vif"
   ]
  },
  {
   "cell_type": "markdown",
   "id": "ca90978c-09b0-4539-8c38-c3b41c389460",
   "metadata": {},
   "source": [
    "### Selection of Variables using Recursive Feature Selection(RFE)\n",
    "Instead of performing these iteration by removing variables one by one, we will use RFE"
   ]
  },
  {
   "cell_type": "code",
   "execution_count": null,
   "id": "783f843b-5d0a-4023-945d-6de9f76ed476",
   "metadata": {},
   "outputs": [],
   "source": [
    "x_train=data_train\n",
    "lm = LinearRegression()\n",
    "lm.fit(x_train,y_train)\n",
    "\n",
    "rfe = RFE(lm,n_features_to_select=15)\n",
    "rfe = rfe.fit(x_train,y_train)"
   ]
  },
  {
   "cell_type": "code",
   "execution_count": null,
   "id": "b7c94233-2bc8-4077-9786-6e28b5fa414a",
   "metadata": {},
   "outputs": [],
   "source": [
    "list(zip(x_train.columns,rfe.support_,rfe.ranking_))"
   ]
  },
  {
   "cell_type": "code",
   "execution_count": null,
   "id": "cc5fb927-e47d-4698-90ae-a4984bc65da7",
   "metadata": {},
   "outputs": [],
   "source": [
    "columns=x_train.columns[rfe.support_]\n",
    "columns"
   ]
  },
  {
   "cell_type": "code",
   "execution_count": null,
   "id": "6e758a96-398f-4586-8d7d-11c42f3c499b",
   "metadata": {},
   "outputs": [],
   "source": [
    "x_train_rfe=data_train[columns]\n",
    "x_train_sm=sm.add_constant(x_train_rfe)\n",
    "lr=sm.OLS(y_train,x_train_sm)\n",
    "lr_model=lr.fit()\n",
    "lr_model.summary()"
   ]
  },
  {
   "cell_type": "code",
   "execution_count": null,
   "id": "1617f619-2988-40d9-8967-ad151543e3b7",
   "metadata": {},
   "outputs": [],
   "source": [
    "vif=pd.DataFrame()\n",
    "vif['Features']=x_train_rfe.columns\n",
    "vif['VIF']= [ variance_inflation_factor(x_train_rfe.values,i) for i in range(x_train_rfe.shape[1]) ]\n",
    "vif['VIF']=round(vif['VIF'],2)\n",
    "vif=vif.sort_values(by='VIF',ascending=False)\n",
    "vif"
   ]
  },
  {
   "cell_type": "code",
   "execution_count": null,
   "id": "202312bc-f112-49f1-b8ff-0f4875794d08",
   "metadata": {},
   "outputs": [],
   "source": [
    "## Remove variable atemp as it has high p-value and high vif"
   ]
  },
  {
   "cell_type": "code",
   "execution_count": null,
   "id": "712f335b-ee7c-462a-a608-e9a8eebcb28b",
   "metadata": {},
   "outputs": [],
   "source": [
    "x_train_rfe=data_train[columns].drop(['atemp'],axis=1)\n",
    "x_train_sm=sm.add_constant(x_train_rfe)\n",
    "lr=sm.OLS(y_train,x_train_sm)\n",
    "lr_model=lr.fit()\n",
    "lr_model.summary()"
   ]
  },
  {
   "cell_type": "code",
   "execution_count": null,
   "id": "e6fc88f2-e3be-4cad-9748-e0dfe10d2543",
   "metadata": {},
   "outputs": [],
   "source": [
    "vif=pd.DataFrame()\n",
    "vif['Features']=x_train_rfe.columns\n",
    "vif['VIF']= [ variance_inflation_factor(x_train_rfe.values,i) for i in range(x_train_rfe.shape[1]) ]\n",
    "vif['VIF']=round(vif['VIF'],2)\n",
    "vif=vif.sort_values(by='VIF',ascending=False)\n",
    "vif"
   ]
  },
  {
   "cell_type": "markdown",
   "id": "908a4f67-cce3-4997-ad43-04ccdb798978",
   "metadata": {},
   "source": [
    "## Remove variable hum,Jul as it has high vif"
   ]
  },
  {
   "cell_type": "code",
   "execution_count": null,
   "id": "bd6e2b29-176f-493e-aca1-fc321a95e63a",
   "metadata": {},
   "outputs": [],
   "source": [
    "x_train_rfe=data_train[columns].drop(['atemp','hum','Jul'],axis=1)\n",
    "x_train_sm=sm.add_constant(x_train_rfe)\n",
    "lr=sm.OLS(y_train,x_train_sm)\n",
    "lr_model=lr.fit()\n",
    "lr_model.summary()"
   ]
  },
  {
   "cell_type": "code",
   "execution_count": null,
   "id": "d6dc1ad5-d7bc-4d9a-82c4-a2ffee5840a3",
   "metadata": {},
   "outputs": [],
   "source": [
    "vif=pd.DataFrame()\n",
    "vif['Features']=x_train_rfe.columns\n",
    "vif['VIF']= [ variance_inflation_factor(x_train_rfe.values,i) for i in range(x_train_rfe.shape[1]) ]\n",
    "vif['VIF']=round(vif['VIF'],2)\n",
    "vif=vif.sort_values(by='VIF',ascending=False)\n",
    "vif"
   ]
  },
  {
   "cell_type": "code",
   "execution_count": null,
   "id": "1a6f58cf-75e1-4271-a9e0-5ff7fdec051c",
   "metadata": {},
   "outputs": [],
   "source": [
    "data_train.head()"
   ]
  },
  {
   "cell_type": "markdown",
   "id": "859ebd93-5a5f-4dd3-b3ba-9965d9155c89",
   "metadata": {},
   "source": [
    "### Residual Analyis on Train Data\n",
    "The graph shows that it is centered around zero mean and is normally distributed"
   ]
  },
  {
   "cell_type": "code",
   "execution_count": null,
   "id": "88c3e57d-adca-4a85-ae6b-bcc5db2eccb8",
   "metadata": {},
   "outputs": [],
   "source": [
    "y_train_cnt=lr_model.predict(x_train_sm)"
   ]
  },
  {
   "cell_type": "code",
   "execution_count": null,
   "id": "1e2957e8-1747-4821-b910-8ab223765566",
   "metadata": {},
   "outputs": [],
   "source": [
    "fig=plt.figure()\n",
    "sns.displot(y_train-y_train_cnt,bins=20)\n",
    "fig.suptitle('Error Terms',fontsize=20)\n",
    "plt.xlabel('Errors',fontsize=18)\n"
   ]
  },
  {
   "cell_type": "markdown",
   "id": "2926d6c1-13cc-4e70-9d03-48a709355227",
   "metadata": {},
   "source": [
    "### Prediction"
   ]
  },
  {
   "cell_type": "code",
   "execution_count": null,
   "id": "dc598126-c3b5-43e1-91a9-a1f863a23626",
   "metadata": {},
   "outputs": [],
   "source": [
    "numeric_vars=['temp','atemp','hum','windspeed','cnt']\n",
    "df_test=data_test\n",
    "df_test[numeric_vars]=scaler.transform(df_test[numeric_vars])"
   ]
  },
  {
   "cell_type": "code",
   "execution_count": null,
   "id": "1ead7183-5451-486d-8d21-f6a3b62e3995",
   "metadata": {},
   "outputs": [],
   "source": [
    "y_test=df_test.pop('cnt')\n",
    "x_test=df_test[columns].drop(['atemp','hum','Jul'],axis=1)"
   ]
  },
  {
   "cell_type": "code",
   "execution_count": null,
   "id": "151de8bd-d24d-42fa-856c-692c55d14046",
   "metadata": {},
   "outputs": [],
   "source": [
    "df_test"
   ]
  },
  {
   "cell_type": "code",
   "execution_count": null,
   "id": "8e3530ba-3913-47a3-bda8-52774cf1368b",
   "metadata": {},
   "outputs": [],
   "source": [
    "x_test_sm=sm.add_constant(x_test)\n",
    "y_test_cnt=lr_model.predict(x_test_sm)"
   ]
  },
  {
   "cell_type": "markdown",
   "id": "b4ddee16-f8b0-4eb7-ba47-cd8fdce36da4",
   "metadata": {},
   "source": [
    "### Model Evaluation\n",
    "\n",
    "R-square on the test dataset is very much close  to the r-square on the trained dataset i.e 85%"
   ]
  },
  {
   "cell_type": "code",
   "execution_count": null,
   "id": "cd7493c6-2638-470e-9ed3-4db95e7a934b",
   "metadata": {},
   "outputs": [],
   "source": [
    "r2_score(y_true=y_test,y_pred=y_test_cnt)"
   ]
  },
  {
   "cell_type": "code",
   "execution_count": null,
   "id": "d982af79-1a95-4337-a3cd-ba449f874eeb",
   "metadata": {},
   "outputs": [],
   "source": [
    "\n"
   ]
  },
  {
   "cell_type": "code",
   "execution_count": null,
   "id": "30548ad7-0154-4387-9dcb-76a44ca6be01",
   "metadata": {},
   "outputs": [],
   "source": []
  },
  {
   "cell_type": "code",
   "execution_count": null,
   "id": "2102baad-2341-4643-b97c-5452e0ea06d1",
   "metadata": {},
   "outputs": [],
   "source": []
  }
 ],
 "metadata": {
  "kernelspec": {
   "display_name": "Python 3 (ipykernel)",
   "language": "python",
   "name": "python3"
  },
  "language_info": {
   "codemirror_mode": {
    "name": "ipython",
    "version": 3
   },
   "file_extension": ".py",
   "mimetype": "text/x-python",
   "name": "python",
   "nbconvert_exporter": "python",
   "pygments_lexer": "ipython3",
   "version": "3.9.17"
  }
 },
 "nbformat": 4,
 "nbformat_minor": 5
}
